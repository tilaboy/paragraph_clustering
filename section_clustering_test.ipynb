{
 "cells": [
  {
   "cell_type": "code",
   "execution_count": 108,
   "metadata": {
    "collapsed": false
   },
   "outputs": [],
   "source": [
    "from __future__ import print_function\n",
    "\n",
    "import pprint\n",
    "import pickle\n",
    "\n",
    "from sklearn.feature_extraction.text import TfidfVectorizer\n",
    "from sklearn.cluster import KMeans\n",
    "\n",
    "import numpy as np\n"
   ]
  },
  {
   "cell_type": "code",
   "execution_count": 109,
   "metadata": {
    "collapsed": false
   },
   "outputs": [
    {
     "name": "stdout",
     "output_type": "stream",
     "text": [
      "nr of lines: 7\n",
      "['name email phone\\n',\n",
      " 'experience work project company\\n',\n",
      " 'home phone email\\n',\n",
      " 'education university\\n',\n",
      " 'training education\\n',\n",
      " 'working job company project\\n',\n",
      " 'training course\\n']\n",
      "['name email phone\\n', 'experience work project company\\n', 'home phone email\\n', 'education university\\n', 'training education\\n', 'working job company project\\n', 'training course\\n']\n"
     ]
    }
   ],
   "source": [
    "filename = 'test.txt'\n",
    "with open(filename) as f:\n",
    "    input = f.readlines()\n",
    "\n",
    "    \n",
    "nr_lines = len(input)\n",
    "print (\"nr of lines: {}\".format(nr_lines))\n",
    "pp=pprint.PrettyPrinter(depth=6)\n",
    "pp.pprint(input)\n",
    "print(input)"
   ]
  },
  {
   "cell_type": "code",
   "execution_count": 110,
   "metadata": {
    "collapsed": false
   },
   "outputs": [
    {
     "name": "stdout",
     "output_type": "stream",
     "text": [
      "<7x13 sparse matrix of type '<class 'numpy.float64'>'\n",
      "\twith 19 stored elements in Compressed Sparse Row format>\n",
      "sampes: 7 \t features: 13\n",
      "  (0, 7)\t0.707106781187\n",
      "  (0, 3)\t0.707106781187\n",
      "  (1, 0)\t0.451635145744\n",
      "  (1, 8)\t0.451635145744\n",
      "  (1, 11)\t0.54408243413\n",
      "  (1, 4)\t0.54408243413\n",
      "  (2, 5)\t0.648464642197\n",
      "  (2, 7)\t0.538281342711\n",
      "  (2, 3)\t0.538281342711\n",
      "  (3, 10)\t0.769448757395\n",
      "  (3, 2)\t0.638708548356\n",
      "  (4, 9)\t0.707106781187\n",
      "  (4, 2)\t0.707106781187\n",
      "  (5, 6)\t0.54408243413\n",
      "  (5, 12)\t0.54408243413\n",
      "  (5, 0)\t0.451635145744\n",
      "  (5, 8)\t0.451635145744\n",
      "  (6, 1)\t0.769448757395\n",
      "  (6, 9)\t0.638708548356\n"
     ]
    }
   ],
   "source": [
    "vectorizer = TfidfVectorizer(stop_words='english')\n",
    "X=vectorizer.fit_transform(input)\n",
    "pp.pprint(X)\n",
    "print(\"sampes: %d \\t features: %d\" % X.shape)\n",
    "print(X)\n"
   ]
  },
  {
   "cell_type": "code",
   "execution_count": 111,
   "metadata": {
    "collapsed": false
   },
   "outputs": [
    {
     "data": {
      "text/plain": [
       "KMeans(copy_x=True, init='k-means++', max_iter=1000, n_clusters=3, n_init=1,\n",
       "    n_jobs=1, precompute_distances='auto', random_state=None, tol=0.0001,\n",
       "    verbose=0)"
      ]
     },
     "execution_count": 111,
     "metadata": {},
     "output_type": "execute_result"
    }
   ],
   "source": [
    "true_k = 3\n",
    "model=KMeans(n_clusters=true_k, init='k-means++', max_iter=1000, n_init=1)\n",
    "model.fit(X)\n"
   ]
  },
  {
   "cell_type": "code",
   "execution_count": 112,
   "metadata": {
    "collapsed": false
   },
   "outputs": [
    {
     "name": "stdout",
     "output_type": "stream",
     "text": [
      "1 \t name email phone\n",
      "\n",
      "2 \t experience work project company\n",
      "\n",
      "1 \t home phone email\n",
      "\n",
      "0 \t education university\n",
      "\n",
      "0 \t training education\n",
      "\n",
      "2 \t working job company project\n",
      "\n",
      "0 \t training course\n",
      "\n"
     ]
    }
   ],
   "source": [
    "XPredLables = model.labels_\n",
    "for i in range(nr_lines):\n",
    "    print( XPredLables[i], \"\\t\", input[i] )"
   ]
  },
  {
   "cell_type": "code",
   "execution_count": 114,
   "metadata": {
    "collapsed": false
   },
   "outputs": [
    {
     "name": "stdout",
     "output_type": "stream",
     "text": [
      "  (0, 7)\t0.707106781187\n",
      "  (0, 3)\t0.707106781187\n",
      "[1] \t name email phone\n",
      "-0.11937761238304286\n",
      "  (0, 5)\t0.609819294878\n",
      "  (0, 4)\t0.609819294878\n",
      "  (0, 2)\t0.506202385601\n",
      "[0] \t experience home education\n",
      "-1.07989011117978\n",
      "\n",
      "[0] \t donot know string\n",
      "-0.5340600647753326\n",
      "  (0, 10)\t0.769448757395\n",
      "  (0, 9)\t0.638708548356\n",
      "[0] \t university training\n",
      "-0.566303300945667\n"
     ]
    }
   ],
   "source": [
    "testData=['name email phone', 'experience home education', 'donot know string', 'university training']\n",
    "for testString in testData:\n",
    "    Y=vectorizer.transform([testString])\n",
    "    print(Y)\n",
    "    print (model.predict(Y), \"\\t\", testString)\n",
    "    print(model.score(Y))\n"
   ]
  },
  {
   "cell_type": "code",
   "execution_count": 100,
   "metadata": {
    "collapsed": false
   },
   "outputs": [
    {
     "name": "stdout",
     "output_type": "stream",
     "text": [
      "[2 0 2 1 1 0 1]\n",
      "[2]\n",
      "-0.11937761238304286\n",
      "[[ 0.45163515  0.          0.          0.          0.27204122  0.\n",
      "   0.27204122  0.          0.45163515  0.          0.          0.27204122\n",
      "   0.27204122]\n",
      " [ 0.          0.25648292  0.44860511  0.          0.          0.          0.\n",
      "   0.          0.          0.44860511  0.25648292  0.          0.        ]\n",
      " [ 0.          0.          0.          0.62269406  0.          0.32423232\n",
      "   0.          0.62269406  0.          0.          0.          0.          0.        ]]\n"
     ]
    }
   ],
   "source": [
    "\n",
    "\n",
    "clusterFeatureScore =  model.cluster_centers_\n",
    "print (clusterFeatureScore)\n",
    "\n",
    "order_centroids = clusterFeatureScore.argsort()[:,::-1]\n"
   ]
  },
  {
   "cell_type": "code",
   "execution_count": null,
   "metadata": {
    "collapsed": true
   },
   "outputs": [],
   "source": []
  },
  {
   "cell_type": "code",
   "execution_count": 82,
   "metadata": {
    "collapsed": false
   },
   "outputs": [
    {
     "name": "stdout",
     "output_type": "stream",
     "text": [
      "array([[ 7,  3,  5, 12, 11, 10,  9,  8,  6,  4,  2,  1,  0],\n",
      "       [ 9,  2, 10,  1, 12, 11,  8,  7,  6,  5,  4,  3,  0],\n",
      "       [ 8,  0, 12, 11,  6,  4, 10,  9,  7,  5,  3,  2,  1]], dtype=int32)\n",
      "Cluster 0\n",
      "phone\n",
      "email\n",
      "home\n",
      "Cluster 1\n",
      "training\n",
      "education\n",
      "university\n",
      "course\n",
      "Cluster 2\n",
      "project\n",
      "company\n",
      "working\n",
      "work\n",
      "job\n",
      "expeirence\n"
     ]
    }
   ],
   "source": [
    "terms=vectorizer.get_feature_names()\n",
    "pp.pprint(order_centroids)\n",
    "for i in range(true_k):\n",
    "    print (\"Cluster {}\".format(i))\n",
    "    for ind in order_centroids[i,:]:\n",
    "        if clusterFeatureScore[i,ind] > 0:\n",
    "            print(terms[ind])"
   ]
  },
  {
   "cell_type": "code",
   "execution_count": null,
   "metadata": {
    "collapsed": true
   },
   "outputs": [],
   "source": []
  }
 ],
 "metadata": {
  "kernelspec": {
   "display_name": "Python 3",
   "language": "python",
   "name": "python3"
  },
  "language_info": {
   "codemirror_mode": {
    "name": "ipython",
    "version": 3
   },
   "file_extension": ".py",
   "mimetype": "text/x-python",
   "name": "python",
   "nbconvert_exporter": "python",
   "pygments_lexer": "ipython3",
   "version": "3.5.1"
  }
 },
 "nbformat": 4,
 "nbformat_minor": 0
}
